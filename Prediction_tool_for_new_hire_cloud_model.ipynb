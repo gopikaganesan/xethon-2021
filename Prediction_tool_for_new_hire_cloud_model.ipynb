{
  "nbformat": 4,
  "nbformat_minor": 0,
  "metadata": {
    "colab": {
      "name": "Prediction-tool-for-new-hire-cloud-model.ipynb",
      "provenance": [],
      "authorship_tag": "ABX9TyM5uMq1JImH2+5OliVqHHjR",
      "include_colab_link": true
    },
    "kernelspec": {
      "name": "python3",
      "display_name": "Python 3"
    },
    "language_info": {
      "name": "python"
    }
  },
  "cells": [
    {
      "cell_type": "markdown",
      "metadata": {
        "id": "view-in-github",
        "colab_type": "text"
      },
      "source": [
        "<a href=\"https://colab.research.google.com/github/gopikaganesan/xethon-2021/blob/main/Prediction_tool_for_new_hire_cloud_model.ipynb\" target=\"_parent\"><img src=\"https://colab.research.google.com/assets/colab-badge.svg\" alt=\"Open In Colab\"/></a>"
      ]
    },
    {
      "cell_type": "code",
      "metadata": {
        "colab": {
          "base_uri": "https://localhost:8080/"
        },
        "id": "WdJsw7_KE04P",
        "outputId": "34d1233d-2e50-420b-e218-36841db75834"
      },
      "source": [
        "endpoint = 'http://0c494aae-a0eb-4ff9-b59d-f3d767d9a800.centralindia.azurecontainer.io/score' #Replace with your endpoint\n",
        "key = 'RSaw2pyfxjRGOFBBisJ4SFJbpzp2Q3UX' #Replace with your key\n",
        "\n",
        "import urllib.request\n",
        "import json\n",
        "import os\n",
        "\n",
        "new_hire = {\n",
        "    \"Inputs\": {\n",
        "        \"WebServiceInput0\":\n",
        "        [\n",
        "            {\n",
        "                    'Age': 43,\n",
        "                    'BusinessTravel' : 'Travel_Frequently',\n",
        "                    'DailyRate' : 1179,\n",
        "                    'Department' : 'Sales',\n",
        "                    'DistanceFromHome' : 3,\n",
        "                    'Education' : 3,\n",
        "                    'EducationField' : 'Other',\n",
        "                    'EmployeeCount' : 1,\n",
        "                    'EmployeeNumber' : 2730,\n",
        "                    'EnvironmentSatisfaction' : 5,\n",
        "                    'Gender' : 'Female',\n",
        "                    'HourlyRate' : 39,\n",
        "                    'JobInvolvement' : 5,\n",
        "                    'JobLevel' : 1,\n",
        "                    'JobRole' : 'Research Scientist',\n",
        "                    'JobSatisfaction' : 5,\n",
        "                    'MaritalStatus' : 'Single',\n",
        "                    'MonthlyIncome' : 10000,\n",
        "                    'MonthlyRate' : 23160,\n",
        "                    'NumCompaniesWorked' : 2,\n",
        "                    'Over18' : 'Y',\n",
        "                    'OverTime' : 'Yes',\n",
        "                    'PercentSalaryHike' : 24,\n",
        "                    'PerformanceRating' : 5,\t\n",
        "                    'RelationshipSatisfaction' : 1,\n",
        "                    'StandardHours' : 70,\n",
        "                    'StockOptionLevel' : 0,\n",
        "                    'TotalWorkingYears' : 6,\n",
        "                    'TrainingTimesLastYear' : 2,\n",
        "                    'WorkLifeBalance' : 4,\n",
        "                    'YearsAtCompany' : 2,\n",
        "                    'YearsInCurrentRole' : 2,\n",
        "                    'YearsSinceLastPromotion' : 2,\n",
        "                    'YearsWithCurrManager' : 1,\n",
        "            },\n",
        "        ],\n",
        "    },\n",
        "    \"GlobalParameters\":  {\n",
        "    }\n",
        "}\n",
        "\n",
        "body = str.encode(json.dumps(new_hire))\n",
        "\n",
        "\n",
        "\n",
        "headers = {'Content-Type':'application/json', 'Authorization':('Bearer '+ key)}\n",
        "\n",
        "req = urllib.request.Request(endpoint, body, headers)\n",
        "\n",
        "try:\n",
        "    response = urllib.request.urlopen(req)\n",
        "    result = response.read()\n",
        "    json_result = json.loads(result)\n",
        "    output = json_result[\"Results\"][\"WebServiceOutput0\"][0]\n",
        "    print('Employee: {}\\nPrediction: {}\\nProbability: {:.2f}'.format(output[\"EmployeeNumber\"],\n",
        "                                                            output[\"AttritionPrediction\"],\n",
        "                                                            output[\"Probability\"]))\n",
        "except urllib.error.HTTPError as error:\n",
        "    print(\"The request failed with status code: \" + str(error.code))\n",
        "\n",
        "    # Print the headers to help debug\n",
        "    print(error.info())\n",
        "    print(json.loads(error.read().decode(\"utf8\", 'ignore')))"
      ],
      "execution_count": 1,
      "outputs": [
        {
          "output_type": "stream",
          "name": "stdout",
          "text": [
            "Employee: 2730\n",
            "Prediction: False\n",
            "Probability: 0.25\n"
          ]
        }
      ]
    }
  ]
}